{
 "cells": [
  {
   "cell_type": "code",
   "execution_count": 1,
   "id": "d1a939cb",
   "metadata": {},
   "outputs": [],
   "source": [
    "import tensorflow as tf \n",
    "import numpy as np \n",
    "import os"
   ]
  },
  {
   "cell_type": "code",
   "execution_count": 2,
   "id": "efe6ab02",
   "metadata": {},
   "outputs": [],
   "source": [
    "os.environ[\"CUDA_VISIBLE_DEVICES\"]=\"2\"\n",
    "os.environ['TF_DETERMINISTIC_OPS'] = '1'"
   ]
  },
  {
   "cell_type": "code",
   "execution_count": 3,
   "id": "a5eb02f6",
   "metadata": {},
   "outputs": [],
   "source": [
    "import PIL\n",
    "import matplotlib.pyplot as plt\n",
    "import tensorflow as tf\n",
    "import random\n",
    "import re\n",
    "from tensorflow.python.framework.ops import disable_eager_execution\n",
    "from tensorflow.python.framework.ops import enable_eager_execution\n",
    "import tensorflow_model_optimization as tfmot\n",
    "#disable_eager_execution()\n",
    "enable_eager_execution()"
   ]
  },
  {
   "cell_type": "code",
   "execution_count": 4,
   "id": "58c812d2",
   "metadata": {},
   "outputs": [],
   "source": [
    "(x_train, y_train), (_, _) = tf.keras.datasets.mnist.load_data()"
   ]
  },
  {
   "cell_type": "code",
   "execution_count": 5,
   "id": "858dba63",
   "metadata": {},
   "outputs": [],
   "source": [
    "x_train = np.expand_dims(x_train, axis=-1)\n",
    "\n",
    "# [optional]: we may need 3 channel (instead of 1)\n",
    "x_train = np.repeat(x_train, 3, axis=-1)\n",
    "\n",
    "# it's always better to normalize \n",
    "x_train = x_train.astype('float32')\n",
    "\n",
    "x_train = tf.keras.applications.resnet.preprocess_input(x_train)"
   ]
  },
  {
   "cell_type": "code",
   "execution_count": 6,
   "id": "c2059cca",
   "metadata": {},
   "outputs": [
    {
     "data": {
      "text/plain": [
       "(60000, 28, 28, 3)"
      ]
     },
     "execution_count": 6,
     "metadata": {},
     "output_type": "execute_result"
    }
   ],
   "source": [
    "x_train.shape"
   ]
  },
  {
   "cell_type": "code",
   "execution_count": 7,
   "id": "c58cd130",
   "metadata": {},
   "outputs": [
    {
     "name": "stdout",
     "output_type": "stream",
     "text": [
      "(60000, 32, 32, 3) (60000, 10)\n"
     ]
    }
   ],
   "source": [
    "# resize the input shape , i.e. old shape: 28, new shape: 32\n",
    "x_train = tf.image.resize(x_train, [32,32]) # if we want to resize \n",
    "\n",
    "# one hot \n",
    "y_train = tf.keras.utils.to_categorical(y_train , num_classes=10)\n",
    "\n",
    "print(x_train.shape, y_train.shape)"
   ]
  },
  {
   "cell_type": "code",
   "execution_count": 8,
   "id": "0b071ac1",
   "metadata": {},
   "outputs": [],
   "source": [
    "input = tf.keras.Input(shape=(32,32,3))\n",
    "efnet = tf.keras.applications.ResNet50(weights='imagenet',\n",
    "                                             include_top = False, \n",
    "                                             input_tensor = input)\n",
    "# Now that we apply global max pooling.\n",
    "gap = tf.keras.layers.GlobalMaxPooling2D()(efnet.output)\n",
    "\n",
    "# Finally, we add a classification layer.\n",
    "output = tf.keras.layers.Dense(10, activation='softmax', use_bias=True)(gap)\n",
    "\n",
    "# bind all"
   ]
  },
  {
   "cell_type": "code",
   "execution_count": 9,
   "id": "ddf7eca0",
   "metadata": {},
   "outputs": [],
   "source": [
    "model_ = tf.keras.Model(efnet.input, output)"
   ]
  },
  {
   "cell_type": "code",
   "execution_count": 10,
   "id": "fc68c228",
   "metadata": {},
   "outputs": [],
   "source": [
    "fp_model = tf.keras.Model(efnet.input, output)"
   ]
  },
  {
   "cell_type": "code",
   "execution_count": 11,
   "id": "c7d1db6d",
   "metadata": {
    "scrolled": true
   },
   "outputs": [],
   "source": [
    "fp_model.compile(\n",
    "          optimizer=tf.keras.optimizers.RMSprop(lr=2e-5),\n",
    "          loss=tf.keras.losses.CategoricalCrossentropy(from_logits=True),\n",
    "          metrics=['accuracy'])"
   ]
  },
  {
   "cell_type": "code",
   "execution_count": 12,
   "id": "c61aaf6e",
   "metadata": {},
   "outputs": [
    {
     "name": "stdout",
     "output_type": "stream",
     "text": [
      "Epoch 1/5\n",
      "469/469 - 78s - loss: 0.5941 - accuracy: 0.8253\n",
      "Epoch 2/5\n",
      "469/469 - 61s - loss: 0.0791 - accuracy: 0.9770\n",
      "Epoch 3/5\n",
      "469/469 - 61s - loss: 0.0345 - accuracy: 0.9895\n",
      "Epoch 4/5\n",
      "469/469 - 60s - loss: 0.0192 - accuracy: 0.9939\n",
      "Epoch 5/5\n",
      "469/469 - 61s - loss: 0.0126 - accuracy: 0.9959\n"
     ]
    }
   ],
   "source": [
    "history = fp_model.fit(x_train, y_train, batch_size=128, epochs=5, verbose = 2)"
   ]
  },
  {
   "cell_type": "code",
   "execution_count": 13,
   "id": "d6e16ad3",
   "metadata": {},
   "outputs": [
    {
     "data": {
      "image/png": "[encoded data removed]",
      "text/plain": [
       "<Figure size 432x288 with 1 Axes>"
      ]
     },
     "metadata": {
      "needs_background": "light"
     },
     "output_type": "display_data"
    }
   ],
   "source": [
    "plt.plot(history.history['loss'], label='MAE (training data)')\n",
    "plt.title('MAE for Chennai Reservoir Levels')\n",
    "plt.ylabel('MAE value')\n",
    "plt.xlabel('No. epoch')\n",
    "plt.legend(loc=\"upper left\")\n",
    "plt.show()"
   ]
  },
  {
   "cell_type": "code",
   "execution_count": 14,
   "id": "9655d5ec",
   "metadata": {},
   "outputs": [],
   "source": [
    "fp_model.save('../../weights/resnet_mnist_fp.h5')"
   ]
  },
  {
   "cell_type": "code",
   "execution_count": 10,
   "id": "bf69dbdd",
   "metadata": {},
   "outputs": [],
   "source": [
    "q_model = tfmot.quantization.keras.quantize_model(model_)"
   ]
  },
  {
   "cell_type": "code",
   "execution_count": 11,
   "id": "cdd8334f",
   "metadata": {},
   "outputs": [],
   "source": [
    "q_model.compile(optimizer=tf.keras.optimizers.RMSprop(lr=2e-5),\n",
    "            loss=tf.keras.losses.CategoricalCrossentropy(from_logits=True),\n",
    "              metrics=['accuracy'])"
   ]
  },
  {
   "cell_type": "code",
   "execution_count": 12,
   "id": "24b70fc8",
   "metadata": {},
   "outputs": [
    {
     "name": "stdout",
     "output_type": "stream",
     "text": [
      "Epoch 1/5\n",
      "469/469 - 309s - loss: 0.6288 - accuracy: 0.8049\n",
      "Epoch 2/5\n",
      "469/469 - 284s - loss: 0.0897 - accuracy: 0.9734\n",
      "Epoch 3/5\n",
      "469/469 - 284s - loss: 0.0394 - accuracy: 0.9878\n",
      "Epoch 4/5\n",
      "469/469 - 284s - loss: 0.0214 - accuracy: 0.9931\n",
      "Epoch 5/5\n",
      "469/469 - 284s - loss: 0.0134 - accuracy: 0.9955\n"
     ]
    }
   ],
   "source": [
    "q_history = q_model.fit(x_train, y_train, batch_size=128, epochs=5, verbose = 2)"
   ]
  },
  {
   "cell_type": "code",
   "execution_count": 13,
   "id": "52aacd8e",
   "metadata": {},
   "outputs": [
    {
     "data": {
      "image/png": "[encoded data removed]",
      "text/plain": [
       "<Figure size 432x288 with 1 Axes>"
      ]
     },
     "metadata": {
      "needs_background": "light"
     },
     "output_type": "display_data"
    }
   ],
   "source": [
    "plt.plot(q_history.history['loss'], label='MAE (training data)')\n",
    "plt.title('MAE for Chennai Reservoir Levels')\n",
    "plt.ylabel('MAE value')\n",
    "plt.xlabel('No. epoch')\n",
    "plt.legend(loc=\"upper left\")\n",
    "plt.show()"
   ]
  },
  {
   "cell_type": "code",
   "execution_count": 15,
   "id": "25851a6e",
   "metadata": {},
   "outputs": [],
   "source": [
    "q_model.save('../../weights/resnet_mnist_q.h5')"
   ]
  }
 ],
 "metadata": {
  "kernelspec": {
   "display_name": "Python 3",
   "language": "python",
   "name": "python3"
  },
  "language_info": {
   "codemirror_mode": {
    "name": "ipython",
    "version": 3
   },
   "file_extension": ".py",
   "mimetype": "text/x-python",
   "name": "python",
   "nbconvert_exporter": "python",
   "pygments_lexer": "ipython3",
   "version": "3.6.9"
  }
 },
 "nbformat": 4,
 "nbformat_minor": 5
}
