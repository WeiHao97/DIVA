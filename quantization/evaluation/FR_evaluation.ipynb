{
 "cells": [
  {
   "cell_type": "code",
   "execution_count": 3,
   "metadata": {},
   "outputs": [],
   "source": [
    "import numpy as np"
   ]
  },
  {
   "cell_type": "code",
   "execution_count": 16,
   "metadata": {},
   "outputs": [],
   "source": [
    "path = '../PubFig/untargetted/results/PGD/'"
   ]
  },
  {
   "cell_type": "code",
   "execution_count": 17,
   "metadata": {},
   "outputs": [],
   "source": [
    "s = np.abs(np.load(path + \"/pgd_fp_v2_orig_score.npy\") - np.load(path + \"pgd_q_v2_orig_score.npy\"))\n",
    "f = np.abs(np.load(path + \"/pgd_fp_v2_failure_orig_score.npy\") - np.load(path + \"pgd_q_v2_failure_orig_score.npy\"))\n",
    "frbconf_dataOQR = np.mean(np.concatenate((s,f), axis = 0))*100"
   ]
  },
  {
   "cell_type": "code",
   "execution_count": 18,
   "metadata": {},
   "outputs": [
    {
     "data": {
      "text/plain": [
       "0.6103351712226868"
      ]
     },
     "execution_count": 18,
     "metadata": {},
     "output_type": "execute_result"
    }
   ],
   "source": [
    "# Confidence delta between fp_model and q_model on Original images\n",
    "frbconf_dataOQR"
   ]
  },
  {
   "cell_type": "code",
   "execution_count": 21,
   "metadata": {},
   "outputs": [],
   "source": [
    "s = np.abs(np.load(path + \"pgd_fp_v2_ad_score.npy\") - np.load(path + \"pgd_q_v2_ad_score.npy\"))\n",
    "f = np.abs(np.load(path + \"/pgd_fp_v2_failure_ad_score.npy\") - np.load(path + \"pgd_q_v2_failure_ad_score.npy\"))\n",
    "frpconf_dataOQA= np.mean(np.concatenate((s,f), axis = 0))*100"
   ]
  },
  {
   "cell_type": "code",
   "execution_count": 22,
   "metadata": {},
   "outputs": [
    {
     "data": {
      "text/plain": [
       "20.770327746868134"
      ]
     },
     "execution_count": 22,
     "metadata": {},
     "output_type": "execute_result"
    }
   ],
   "source": [
    "# Confidence delta between fp_model and q_model on PGD attacked images\n",
    "frpconf_dataOQA"
   ]
  },
  {
   "cell_type": "code",
   "execution_count": 23,
   "metadata": {},
   "outputs": [],
   "source": [
    "path = '../PubFig/untargetted/results/WB/'"
   ]
  },
  {
   "cell_type": "code",
   "execution_count": 24,
   "metadata": {},
   "outputs": [],
   "source": [
    "s = np.abs(np.load(path + \"wb_fp_v2_ad_score.npy\") - np.load(path + \"wb_q_v2_ad_score.npy\"))\n",
    "f = np.abs(np.load(path + \"wb_fp_v2_failure_ad_score.npy\") - np.load(path + \"wb_q_v2_failure_ad_score.npy\"))\n",
    "frbconf_dataOQA= np.mean(np.concatenate((s,f), axis = 0))*100"
   ]
  },
  {
   "cell_type": "code",
   "execution_count": 25,
   "metadata": {},
   "outputs": [
    {
     "data": {
      "text/plain": [
       "71.70507907867432"
      ]
     },
     "execution_count": 25,
     "metadata": {},
     "output_type": "execute_result"
    }
   ],
   "source": [
    "# Confidence delta between fp_model and q_model on DIVA attacked images\n",
    "frbconf_dataOQA"
   ]
  }
 ],
 "metadata": {
  "kernelspec": {
   "display_name": "Python 3",
   "language": "python",
   "name": "python3"
  },
  "language_info": {
   "codemirror_mode": {
    "name": "ipython",
    "version": 3
   },
   "file_extension": ".py",
   "mimetype": "text/x-python",
   "name": "python",
   "nbconvert_exporter": "python",
   "pygments_lexer": "ipython3",
   "version": "3.7.9"
  }
 },
 "nbformat": 4,
 "nbformat_minor": 4
}
