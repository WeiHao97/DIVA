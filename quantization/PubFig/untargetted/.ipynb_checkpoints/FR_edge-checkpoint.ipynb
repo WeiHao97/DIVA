{
 "cells": [
  {
   "cell_type": "code",
   "execution_count": 3,
   "metadata": {},
   "outputs": [],
   "source": [
    "import tflite_runtime.interpreter as tflite # Need installation"
   ]
  },
  {
   "cell_type": "code",
   "execution_count": 4,
   "metadata": {},
   "outputs": [],
   "source": [
    "import numpy as np"
   ]
  },
  {
   "cell_type": "markdown",
   "metadata": {},
   "source": [
    "# Preprocess Function"
   ]
  },
  {
   "cell_type": "code",
   "execution_count": 5,
   "metadata": {},
   "outputs": [],
   "source": [
    "def preprocess_input(x):\n",
    "    x_temp = np.copy(x)\n",
    "    x_temp = x_temp[..., ::-1]\n",
    "    x_temp[..., 0] -= 91.4953\n",
    "    x_temp[..., 1] -= 103.8827\n",
    "    x_temp[..., 2] -= 131.0912\n",
    "    return x_temp"
   ]
  },
  {
   "cell_type": "markdown",
   "metadata": {},
   "source": [
    "# Load Model"
   ]
  },
  {
   "cell_type": "code",
   "execution_count": 8,
   "metadata": {},
   "outputs": [],
   "source": [
    "# Load the TFLite model and allocate tensors.\n",
    "interpreter = tflite.Interpreter(model_path=\"../../../weights/tflite_int8_model_90.tflite\")\n",
    "interpreter.allocate_tensors()\n",
    "\n",
    "# Get input and output tensors.\n",
    "input_details = interpreter.get_input_details()\n",
    "output_details = interpreter.get_output_details()\n",
    "\n",
    "# Test the model on random input data.\n",
    "input_shape = input_details[0]['shape']"
   ]
  },
  {
   "cell_type": "markdown",
   "metadata": {},
   "source": [
    "# Load Data"
   ]
  },
  {
   "cell_type": "code",
   "execution_count": 7,
   "metadata": {},
   "outputs": [],
   "source": [
    "pgd_x_ad = np.load('./results/PGD/pgd_x_ad_v2.npy') # sucessed attacked images using PGD\n",
    "pgd_x_orig = np.load('./results/PGD/pgd_x_orig_v2.npy')# corresponding original images\n",
    "pgd_y = np.load('./results/PGD/pgd_y_v2.npy')# true label for sucessed images\n",
    "\n",
    "wb_x_ad = np.load('./results/WB/wb_x_ad_v2.npy') # sucessed attacked images using DIVA\n",
    "wb_x_orig = np.load('./results/WB/wb_x_orig_v2.npy') # corresponding original images\n",
    "wb_y = np.load('./results/WB/wb_y_v2.npy')# true label for sucessed images"
   ]
  },
  {
   "cell_type": "code",
   "execution_count": 17,
   "metadata": {},
   "outputs": [],
   "source": [
    "pgd_failure_x_ad = np.load('./results/PGD/pgd_x_failure_ad_v2.npy')# failed attacked images using PGD\n",
    "pgd_failure_x_orig = np.load('./results/PGD/pgd_x_failure_orig_v2.npy')# corresponding original images\n",
    "pgd_failure_y = np.load('./results/PGD/pgd_failure_y_v2.npy')# true label for failed images\n",
    "\n",
    "wb_failure_x_ad = np.load('./results/WB/wb_x_failure_ad_v2.npy')# failed attacked images using DIVA\n",
    "wb_failure_x_orig = np.load('./results/WB/wb_x_failure_orig_v2.npy')# corresponding original images\n",
    "wb_failure_y = np.load('./results/WB/wb_failure_y_v2.npy')# true label for failed images"
   ]
  },
  {
   "cell_type": "code",
   "execution_count": null,
   "metadata": {},
   "outputs": [],
   "source": [
    "pgd_5_x = np.load('./results/PGD/pgd_5_x_v2.npy')  # sucessed attacked images using PGD for the top-5 evaluation metrix\n",
    "pgd_5_y = np.load('./results/PGD/pgd_5_y_v2.npy') # corresponding predicted top-5 labels from the fp_model\n",
    "wb_5_x = np.load('./results/WB/wb_5_x_v2.npy')# sucessed attacked images using DIVA for the top-5 evaluation metrix\n",
    "wb_5_y = np.load('./results/WB/wb_5_y_v2.npy') # corresponding predicted top-5 labels from the fp_model"
   ]
  },
  {
   "cell_type": "markdown",
   "metadata": {},
   "source": [
    "# Confidense Drop"
   ]
  },
  {
   "cell_type": "markdown",
   "metadata": {},
   "source": [
    "## 1. Top-1 Confidence Scores"
   ]
  },
  {
   "cell_type": "code",
   "execution_count": 9,
   "metadata": {},
   "outputs": [],
   "source": [
    "index = 0\n",
    "wb_orig_score = [] # tflite prediction score of the true label for the original image DIVA\n",
    "wb_ad_score = []# tflite prediction score of the true label for the adverserial image created by DIVA\n",
    "failure = [] # attacks that are not actually successful on the arm machine\n",
    "\n",
    "for i in range(0,len(wb_x_orig)):\n",
    "    ad_img = preprocess_input(wb_x_ad[i])[None,...]\n",
    "    orig_img = preprocess_input(wb_x_orig[i])[None,...]\n",
    "    \n",
    "    interpreter.set_tensor(input_details[0]['index'], orig_img)\n",
    "\n",
    "    interpreter.invoke()\n",
    "\n",
    "    # The function `get_tensor()` returns a copy of the tensor data.\n",
    "    # Use `tensor()` in order to get a pointer to the tensor.\n",
    "    output_data = interpreter.get_tensor(output_details[0]['index'])\n",
    "    wb_orig_score.append(output_data[0][wb_y[i]])\n",
    "    \n",
    "    interpreter.set_tensor(input_details[0]['index'], ad_img)\n",
    "\n",
    "    interpreter.invoke()\n",
    "\n",
    "    # The function `get_tensor()` returns a copy of the tensor data.\n",
    "    # Use `tensor()` in order to get a pointer to the tensor.\n",
    "    output_data = interpreter.get_tensor(output_details[0]['index'])\n",
    "    wb_ad_score.append(output_data[0][wb_y[i]])\n",
    "    \n",
    "    if np.argmax(output_data[0]) == wb_y[i]:\n",
    "        failure.append(i)"
   ]
  },
  {
   "cell_type": "code",
   "execution_count": null,
   "metadata": {},
   "outputs": [],
   "source": [
    "# actual number of successed DIVA attacks, since we eventually evaluate the attacks on the arm machine\n",
    "len(failure)"
   ]
  },
  {
   "cell_type": "code",
   "execution_count": 34,
   "metadata": {},
   "outputs": [
    {
     "data": {
      "text/plain": [
       "0.98"
      ]
     },
     "execution_count": 34,
     "metadata": {},
     "output_type": "execute_result"
    }
   ],
   "source": [
    "# actual success rate\n",
    "(len(wb_q_y) - len(failure))/len(wb_q_y)"
   ]
  },
  {
   "cell_type": "code",
   "execution_count": 12,
   "metadata": {},
   "outputs": [],
   "source": [
    "np.save('./results/WB/wb_q_v2_orig_score.npy', np.array(wb_orig_score)) # conf score of the tflite prediction for the correct class on the unattacked images\n",
    "np.save('./results/WB/wb_q_v2_ad_score.npy', np.array(wb_ad_score)) # conf score of the tflite prediction for the correct class on the attacked images"
   ]
  },
  {
   "cell_type": "code",
   "execution_count": 13,
   "metadata": {},
   "outputs": [],
   "source": [
    "index = 0\n",
    "pgd_orig_score = []\n",
    "pgd_ad_score = []\n",
    "failure = []\n",
    "for i in range(0,len(pgd_x_orig)):\n",
    "    ad_img = preprocess_input(pgd_x_ad[i])[None,...]\n",
    "    orig_img = preprocess_input(pgd_x_orig[i])[None,...]\n",
    "    \n",
    "    interpreter.set_tensor(input_details[0]['index'], orig_img)\n",
    "\n",
    "    interpreter.invoke()\n",
    "\n",
    "    # The function `get_tensor()` returns a copy of the tensor data.\n",
    "    # Use `tensor()` in order to get a pointer to the tensor.\n",
    "    output_data = interpreter.get_tensor(output_details[0]['index'])\n",
    "    pgd_orig_score.append(output_data[0][pgd_y[i]])\n",
    "    \n",
    "    interpreter.set_tensor(input_details[0]['index'], ad_img)\n",
    "\n",
    "    interpreter.invoke()\n",
    "\n",
    "    # The function `get_tensor()` returns a copy of the tensor data.\n",
    "    # Use `tensor()` in order to get a pointer to the tensor.\n",
    "    output_data = interpreter.get_tensor(output_details[0]['index'])\n",
    "    pgd_ad_score.append(output_data[0][pgd_y[i]])\n",
    "    \n",
    "    if np.argmax(output_data[0]) == pgd_y[i]:\n",
    "        failure.append(i)"
   ]
  },
  {
   "cell_type": "code",
   "execution_count": null,
   "metadata": {},
   "outputs": [],
   "source": [
    "# number of successed PGD attacks = len(wb_orig_score) - len(failure), since we eventually evaluate the attacks on the arm machine\n",
    "len(failure)"
   ]
  },
  {
   "cell_type": "code",
   "execution_count": 31,
   "metadata": {},
   "outputs": [
    {
     "data": {
      "text/plain": [
       "0.2911111111111111"
      ]
     },
     "execution_count": 31,
     "metadata": {},
     "output_type": "execute_result"
    }
   ],
   "source": [
    "# actual success rate\n",
    "(len(pgd_q_y) - len(failure))/len(pgd_q_y)"
   ]
  },
  {
   "cell_type": "code",
   "execution_count": 16,
   "metadata": {},
   "outputs": [],
   "source": [
    "np.save('./results/PGD/pgd_q_v2_orig_score.npy', np.array(pgd_orig_score))# conf score of the tflite prediction for the correct class on the unattacked images\n",
    "np.save('./results/PGD/pgd_q_v2_ad_score.npy', np.array(pgd_ad_score))# conf score of the tflite prediction for the correct class on the attacked images"
   ]
  },
  {
   "cell_type": "code",
   "execution_count": 18,
   "metadata": {},
   "outputs": [],
   "source": [
    "index = 0\n",
    "wb_failure_orig_score = []\n",
    "wb_failure_ad_score = []\n",
    "for i in range(0,len(wb_failure_x_orig)):\n",
    "    ad_img = preprocess_input(wb_failure_x_ad[i])[None,...]\n",
    "    orig_img = preprocess_input(wb_failure_x_orig[i])[None,...]\n",
    "    \n",
    "    interpreter.set_tensor(input_details[0]['index'], orig_img)\n",
    "\n",
    "    interpreter.invoke()\n",
    "\n",
    "    # The function `get_tensor()` returns a copy of the tensor data.\n",
    "    # Use `tensor()` in order to get a pointer to the tensor.\n",
    "    output_data = interpreter.get_tensor(output_details[0]['index'])\n",
    "    wb_failure_orig_score.append(output_data[0][wb_failure_y[i]])\n",
    "    \n",
    "    interpreter.set_tensor(input_details[0]['index'], ad_img)\n",
    "\n",
    "    interpreter.invoke()\n",
    "\n",
    "    # The function `get_tensor()` returns a copy of the tensor data.\n",
    "    # Use `tensor()` in order to get a pointer to the tensor.\n",
    "    output_data = interpreter.get_tensor(output_details[0]['index'])\n",
    "    wb_failure_ad_score.append(output_data[0][wb_failure_y[i]])"
   ]
  },
  {
   "cell_type": "code",
   "execution_count": 19,
   "metadata": {},
   "outputs": [],
   "source": [
    "np.save('./results/WB/wb_q_v2_failure_orig_score.npy', np.array(wb_failure_orig_score)) # conf score of the tflite prediction for the correct class on the unattacked images\n",
    "np.save('./results/WB/wb_q_v2_failure_ad_score.npy', np.array(wb_failure_ad_score))# conf score of the tflite prediction for the correct class on the attacked images"
   ]
  },
  {
   "cell_type": "code",
   "execution_count": 20,
   "metadata": {},
   "outputs": [],
   "source": [
    "index = 0\n",
    "pgd_failure_orig_score = []\n",
    "pgd_failure_ad_score = []\n",
    "for i in range(0,len(pgd_failure_x_orig)):\n",
    "    ad_img = preprocess_input(pgd_failure_x_ad[i])[None,...]\n",
    "    orig_img = preprocess_input(pgd_failure_x_orig[i])[None,...]\n",
    "    \n",
    "    interpreter.set_tensor(input_details[0]['index'], orig_img)\n",
    "\n",
    "    interpreter.invoke()\n",
    "\n",
    "    # The function `get_tensor()` returns a copy of the tensor data.\n",
    "    # Use `tensor()` in order to get a pointer to the tensor.\n",
    "    output_data = interpreter.get_tensor(output_details[0]['index'])\n",
    "    pgd_failure_orig_score.append(output_data[0][pgd_failure_y[i]])\n",
    "    \n",
    "    interpreter.set_tensor(input_details[0]['index'], ad_img)\n",
    "\n",
    "    interpreter.invoke()\n",
    "\n",
    "    # The function `get_tensor()` returns a copy of the tensor data.\n",
    "    # Use `tensor()` in order to get a pointer to the tensor.\n",
    "    output_data = interpreter.get_tensor(output_details[0]['index'])\n",
    "    pgd_failure_ad_score.append(output_data[0][pgd_failure_y[i]])"
   ]
  },
  {
   "cell_type": "code",
   "execution_count": 21,
   "metadata": {},
   "outputs": [],
   "source": [
    "np.save('./results/PGD/pgd_q_v2_failure_orig_score.npy', np.array(pgd_failure_orig_score))# conf score of the tflite prediction for the correct class on the unattacked images\n",
    "np.save('./results/PGD/pgd_q_v2_failure_ad_score.npy', np.array(pgd_failure_ad_score))# conf score of the tflite prediction for the correct class on the attacked images"
   ]
  },
  {
   "cell_type": "markdown",
   "metadata": {},
   "source": [
    "## 2. Top-5 Confidence Scores"
   ]
  },
  {
   "cell_type": "code",
   "execution_count": 22,
   "metadata": {},
   "outputs": [
    {
     "name": "stdout",
     "output_type": "stream",
     "text": [
      "0.011111111111111112\n"
     ]
    }
   ],
   "source": [
    "index = 0\n",
    "count = 0\n",
    "for image in pgd_5_x:\n",
    "    img = preprocess_input(image)[None,...]\n",
    "    \n",
    "    interpreter.set_tensor(input_details[0]['index'], img)\n",
    "\n",
    "    interpreter.invoke()\n",
    "\n",
    "    # The function `get_tensor()` returns a copy of the tensor data.\n",
    "    # Use `tensor()` in order to get a pointer to the tensor.\n",
    "    output_data = interpreter.get_tensor(output_details[0]['index'])\n",
    "    if np.argmax(output_data[0]) not in pgd_5_y[index].tolist():\n",
    "        count += 1\n",
    "    index += 1\n",
    "print(count/450) # top-5 success rate for pgd"
   ]
  },
  {
   "cell_type": "code",
   "execution_count": 23,
   "metadata": {},
   "outputs": [
    {
     "name": "stdout",
     "output_type": "stream",
     "text": [
      "0.37555555555555553\n"
     ]
    }
   ],
   "source": [
    "index = 0\n",
    "count = 0\n",
    "for image in wb_5_x:\n",
    "    img = preprocess_input(image)[None,...]\n",
    "    \n",
    "    interpreter.set_tensor(input_details[0]['index'], img)\n",
    "\n",
    "    interpreter.invoke()\n",
    "\n",
    "    # The function `get_tensor()` returns a copy of the tensor data.\n",
    "    # Use `tensor()` in order to get a pointer to the tensor.\n",
    "    output_data = interpreter.get_tensor(output_details[0]['index'])\n",
    "    if np.argmax(output_data[0]) not in wb_5_y[index].tolist():\n",
    "        count += 1\n",
    "    index += 1\n",
    "print(count/450)# top-5 success rate for DIVA"
   ]
  },
  {
   "cell_type": "markdown",
   "metadata": {},
   "source": [
    "# Instability"
   ]
  },
  {
   "cell_type": "code",
   "execution_count": 4,
   "metadata": {},
   "outputs": [],
   "source": [
    "import numpy as np"
   ]
  },
  {
   "cell_type": "code",
   "execution_count": 9,
   "metadata": {},
   "outputs": [],
   "source": [
    "test_x = np.load('../../../datasets/PubFig/test_x_1164.npy')"
   ]
  },
  {
   "cell_type": "code",
   "execution_count": null,
   "metadata": {},
   "outputs": [],
   "source": [
    "full_q_y = [] # prediction result from tflite for full test dataset\n",
    "for image in test_x:\n",
    "    img = (image)[None,...].astype(np.float32)\n",
    "    \n",
    "    interpreter.set_tensor(input_details[0]['index'], img)\n",
    "\n",
    "    interpreter.invoke()\n",
    "\n",
    "    # The function `get_tensor()` returns a copy of the tensor data.\n",
    "    # Use `tensor()` in order to get a pointer to the tensor.\n",
    "    output_data = interpreter.get_tensor(output_details[0]['index'])\n",
    "    full_q_y.append(np.argmax(output_data[0]))"
   ]
  },
  {
   "cell_type": "code",
   "execution_count": 10,
   "metadata": {},
   "outputs": [],
   "source": [
    "test_fp_1164 = np.load('./results/test_fp_1164.npy') # prediction result from fp model"
   ]
  },
  {
   "cell_type": "code",
   "execution_count": 11,
   "metadata": {},
   "outputs": [],
   "source": [
    "test_q_1164 = np.load('./results/test_q_1164.npy')# prediction result from qat model"
   ]
  },
  {
   "cell_type": "code",
   "execution_count": 13,
   "metadata": {},
   "outputs": [],
   "source": [
    "test_y = np.load('../../../datasets/PubFig/test_y_1164.npy') # true labels"
   ]
  },
  {
   "cell_type": "code",
   "execution_count": 82,
   "metadata": {},
   "outputs": [
    {
     "data": {
      "text/plain": [
       "1164"
      ]
     },
     "execution_count": 82,
     "metadata": {},
     "output_type": "execute_result"
    }
   ],
   "source": [
    "np.sum(np.array(full_q_y) ==  test_q_1164) # there should be little to no difference between qat and tflite model"
   ]
  },
  {
   "cell_type": "code",
   "execution_count": 88,
   "metadata": {},
   "outputs": [
    {
     "data": {
      "text/plain": [
       "0.9905498281786942"
      ]
     },
     "execution_count": 88,
     "metadata": {},
     "output_type": "execute_result"
    }
   ],
   "source": [
    "np.sum(np.array(test_y) ==  full_q_y)/1164 # presicion of tflite model"
   ]
  },
  {
   "cell_type": "code",
   "execution_count": 85,
   "metadata": {},
   "outputs": [],
   "source": [
    "def eval2(t1,t2,y):# evalute instability\n",
    "    accurate_pred = set()\n",
    "    accurate_q_pred = set()\n",
    "    p = [i for i, j in enumerate(zip(list(t1),y)) if all(j[0]==k for k in j[1:])]\n",
    "    q_p = [i  for i, j in enumerate(zip(list(t2),y)) if all(j[0]==k for k in j[1:])]\n",
    "    accurate_pred.update(p)\n",
    "    accurate_q_pred.update(q_p)\n",
    "    orig_correct = len(accurate_pred)\n",
    "    q_correct = len(accurate_q_pred)\n",
    "    \n",
    "    q_correct_orig_wrong = len(accurate_q_pred.difference(accurate_pred))\n",
    "    q_wrong_orig_correct = len(accurate_pred.difference(accurate_q_pred))\n",
    "    return q_correct, orig_correct, q_correct_orig_wrong, q_wrong_orig_correct"
   ]
  },
  {
   "cell_type": "code",
   "execution_count": 86,
   "metadata": {},
   "outputs": [
    {
     "data": {
      "text/plain": [
       "(1153, 1157, 2, 6)"
      ]
     },
     "execution_count": 86,
     "metadata": {},
     "output_type": "execute_result"
    }
   ],
   "source": [
    "eval2(test_fp_1164,full_q_y,test_y) # instability between fp model on the server and tflite model on the edge"
   ]
  }
 ],
 "metadata": {
  "kernelspec": {
   "display_name": "Python 3",
   "language": "python",
   "name": "python3"
  },
  "language_info": {
   "codemirror_mode": {
    "name": "ipython",
    "version": 3
   },
   "file_extension": ".py",
   "mimetype": "text/x-python",
   "name": "python",
   "nbconvert_exporter": "python",
   "pygments_lexer": "ipython3",
   "version": "3.8.8"
  }
 },
 "nbformat": 4,
 "nbformat_minor": 5
}
